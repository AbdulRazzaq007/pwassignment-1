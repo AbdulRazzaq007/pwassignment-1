{
 "cells": [
  {
   "cell_type": "code",
   "execution_count": 1,
   "id": "c2819e52",
   "metadata": {},
   "outputs": [],
   "source": [
    "#1 swapping of the values assign to variables without using temporary variable\n",
    "x = 10\n",
    "y = 20"
   ]
  },
  {
   "cell_type": "code",
   "execution_count": 5,
   "id": "0394eb68",
   "metadata": {},
   "outputs": [
    {
     "name": "stdout",
     "output_type": "stream",
     "text": [
      "After swapping x and y\n",
      "after swapping x 10\n",
      "after swapping y 20\n"
     ]
    }
   ],
   "source": [
    "x,y  = y,x\n",
    "print(\"After swapping x and y\")\n",
    "print(\"after swapping x\",x)\n",
    "print(\"after swapping y\",y)"
   ]
  },
  {
   "cell_type": "code",
   "execution_count": 9,
   "id": "52dc7b57",
   "metadata": {},
   "outputs": [
    {
     "name": "stdout",
     "output_type": "stream",
     "text": [
      "Calculating the area of rectangle:\n",
      "Enter the length:10\n",
      "Enter the width:20\n"
     ]
    }
   ],
   "source": [
    "#2 finding the area of rectangle\n",
    "print(\"Calculating the area of rectangle:\")\n",
    "length = int(input(\"Enter the length:\"))\n",
    "width = int(input(\"Enter the width:\"))"
   ]
  },
  {
   "cell_type": "code",
   "execution_count": 11,
   "id": "e4b1f999",
   "metadata": {},
   "outputs": [
    {
     "name": "stdout",
     "output_type": "stream",
     "text": [
      "Area of rectangle is: 200\n"
     ]
    }
   ],
   "source": [
    "area = length*width\n",
    "print(\"Area of rectangle is:\",area)"
   ]
  },
  {
   "cell_type": "code",
   "execution_count": 14,
   "id": "97579bbd",
   "metadata": {},
   "outputs": [
    {
     "name": "stdout",
     "output_type": "stream",
     "text": [
      "Enter the temperature in celsius:200\n"
     ]
    }
   ],
   "source": [
    "#3 converting the celsius into fahrenheit\n",
    "celsius = int(input(\"Enter the temperature in celsius:\"))\n",
    "fahrenheit = (celsius*9/5)+32"
   ]
  },
  {
   "cell_type": "code",
   "execution_count": 16,
   "id": "1a41c657",
   "metadata": {},
   "outputs": [
    {
     "name": "stdout",
     "output_type": "stream",
     "text": [
      "The temperature converted into fahrenheit is: 392.0\n"
     ]
    }
   ],
   "source": [
    "print(\"The temperature converted into fahrenheit is:\",fahrenheit)"
   ]
  },
  {
   "cell_type": "code",
   "execution_count": 17,
   "id": "df37ad0f",
   "metadata": {},
   "outputs": [
    {
     "name": "stdout",
     "output_type": "stream",
     "text": [
      "Enter the string to find the length of the string:pwskills\n"
     ]
    }
   ],
   "source": [
    "#1 python program to get the length of the string.\n",
    "string = input(\"Enter the string to find the length of the string:\")\n",
    "len_string = len(string)"
   ]
  },
  {
   "cell_type": "code",
   "execution_count": 19,
   "id": "b191aa11",
   "metadata": {},
   "outputs": [
    {
     "name": "stdout",
     "output_type": "stream",
     "text": [
      "The length of given string is: 8\n"
     ]
    }
   ],
   "source": [
    "print(\"The length of given string is:\",len_string)"
   ]
  },
  {
   "cell_type": "code",
   "execution_count": 23,
   "id": "4e57711b",
   "metadata": {},
   "outputs": [
    {
     "name": "stdout",
     "output_type": "stream",
     "text": [
      "Enter the sentence to count vowels :pwskills\n"
     ]
    }
   ],
   "source": [
    "#2 counting the vowels in the sentences\n",
    "sentence = input(\"Enter the sentence to count vowels :\")\n",
    "sentence = sentence.lower()\n",
    "\n",
    "vowels_count= sentence.count('a')+sentence.count('e')+sentence.count('i')+sentence.count('o')+sentence.count('u')"
   ]
  },
  {
   "cell_type": "code",
   "execution_count": 26,
   "id": "73526e63",
   "metadata": {},
   "outputs": [
    {
     "name": "stdout",
     "output_type": "stream",
     "text": [
      "Number of vowels present in your sentence are:  1\n"
     ]
    }
   ],
   "source": [
    "print(\"Number of vowels present in your sentence are: \" ,vowels_count)"
   ]
  },
  {
   "cell_type": "code",
   "execution_count": 36,
   "id": "94666b0c",
   "metadata": {},
   "outputs": [
    {
     "name": "stdout",
     "output_type": "stream",
     "text": [
      "Enter the string to reverse string: pwskills\n",
      "Reverse string: sllikswp\n"
     ]
    }
   ],
   "source": [
    "#3 reversing the order of the string\n",
    "string = input(\"Enter the string to reverse string: \")\n",
    "reverse = string[::-1]\n",
    "print(\"Reverse string:\",reverse)"
   ]
  },
  {
   "cell_type": "code",
   "execution_count": 41,
   "id": "66347363",
   "metadata": {},
   "outputs": [
    {
     "name": "stdout",
     "output_type": "stream",
     "text": [
      "Enter the string:malayalam\n",
      "The enterted string is palindroma True\n"
     ]
    }
   ],
   "source": [
    "#4 checking whether the string is palindrom or not\n",
    "word = input(\"Enter the string:\")\n",
    "reverse_word = word[::-1]\n",
    "new_word =word == reverse_word\n",
    "print(\"The enterted string is palindroma\",new_word)"
   ]
  },
  {
   "cell_type": "code",
   "execution_count": 45,
   "id": "8b2d79ba",
   "metadata": {},
   "outputs": [
    {
     "name": "stdout",
     "output_type": "stream",
     "text": [
      "Enter the string to remove the spaces: pw skills sudhanshu sir\n",
      " Input string after removing the spaces : pwskillssudhanshusir\n"
     ]
    }
   ],
   "source": [
    "#5 removing the spaces from the string\n",
    "strings = input(\"Enter the string to remove the spaces: \")\n",
    "removing_space= strings.replace(\" \",\"\")\n",
    "print(\" Input string after removing the spaces :\",removing_space)"
   ]
  }
 ],
 "metadata": {
  "kernelspec": {
   "display_name": "Python 3 (ipykernel)",
   "language": "python",
   "name": "python3"
  },
  "language_info": {
   "codemirror_mode": {
    "name": "ipython",
    "version": 3
   },
   "file_extension": ".py",
   "mimetype": "text/x-python",
   "name": "python",
   "nbconvert_exporter": "python",
   "pygments_lexer": "ipython3",
   "version": "3.11.5"
  }
 },
 "nbformat": 4,
 "nbformat_minor": 5
}
